{
 "cells": [
  {
   "cell_type": "markdown",
   "metadata": {},
   "source": [
    "The main goal of this package is to backtest the performance of period-high-point trading strategies. The data source is Alphadvantage. \n",
    "<br>\n",
    "Please follow the steps below to utilize this package."
   ]
  },
  {
   "cell_type": "markdown",
   "metadata": {},
   "source": [
    "Contents:\n",
    "<br>\n",
    "1, Methods of \"self\":\n",
    "    <br>\n",
    "    1)closeSign: float, the number of rolling annulized standard deviation you want to use as the stop-loss sign of the strategy, 1 as default.\n",
    "    <br>\n",
    "    2)stdevRoll: int, the number of days of the st.Dev rolling window, 30 as default.\n",
    "    <br>\n",
    "    3)apikey: string, the key to access Alphadvantage database. \"PT1IPJSO9WO8TW7N\" as default.\n",
    "    <br>\n",
    "    4)interval: \"daily\",\"5min\",\"15min\", etc. The data interval you want to use to do the backtest.\n",
    "    <br>\n",
    "    5)adjusted:\"Y\" to use adjusted_close data, \"N\" to use unadjusted_close data.\n",
    "    <br>\n",
    "    6)startDate:\"yyyy-mm-dd\", the start date for the strategy.\n",
    "    <br>\n",
    "    7)holdingPeriod:\"1m\",\"10d\",\"6m\",etc. Holding period if you want to close after certain time.\n",
    "    <br>\n",
    "    8)stratPeriod:\"52w\",\"26w\",\"10d\",etc. The looking-back period for the period-high-point.\n",
    "    <br>\n",
    "    9)tickerList:\"DJticker.csv\" as default. Please make sure the list is properly named and under the working directory. Plus, the tickers in the file should be in horizon direction.\n",
    "    <br>\n",
    "    10)winnerQuantile:0.2 as default. The percentage of stocks with top momentum ratio if you use the ranking-strategy.\n",
    "    <br>\n",
    "    11)benchmark:\"SPY\" as default. The ticker you want to use as the benchmark.\n",
    "    <br>\n",
    "    <br>\n",
    "    <br>\n",
    "2, Functions.\n",
    "<br>\n",
    "1)deletePrevData(self):Delete the previous data. Do it before you want to update data.\n",
    "<br>\n",
    "2)downloadData(self):download the data in the ticker list.\n",
    "<br>\n",
    "3)readData(self):read downloaded data to a dictionary.\n",
    "<br>\n",
    "4)generateAllTickers(self, data):generate the raw data to useful ones, with period high point and trading signals.\n",
    "<br>\n",
    "5)backTestWinnerLoser(self, data):backtest the top-ratio strategy with specified holding period. The result will be stored to a dictionary.\n",
    "<br>\n",
    "6)backtestAllTime(data): backtest the strategy starting from the start of the dataset.\n",
    "<br>\n",
    "7)generateHoldingLogFullPosition(self,rawData,backtestResult):generate the holding log of the long-term holding strategy with full position all the time.\n",
    "<br>\n",
    "8)generateHoldingLogPortionalPosition(self,rawData,backtestResult):generate the holding log of the long-term holding strategy with equally-weighted position all the time, but non-increasing weight.\n",
    "<br>\n",
    "9)generateHoldingLogIncreasingPosition(self,rawData,backtestResult):generate the holding log of the long-term holding strategy with equally-weighted position all the time, increasing weight as the portfolio value increase.\n",
    "<br>\n",
    "10)MDD(data):return to the max draw down of a dataset.\n",
    "<br>\n",
    "11)sharpeRatio(data):return to the sharpe ratio of a dataset."
   ]
  },
  {
   "cell_type": "markdown",
   "metadata": {},
   "source": [
    "Please follow the steps below to do the corresponding backtest."
   ]
  },
  {
   "cell_type": "code",
   "execution_count": 1,
   "metadata": {},
   "outputs": [],
   "source": [
    "#import the package\n",
    "from TrendStratV5 import TrendStrat"
   ]
  },
  {
   "cell_type": "code",
   "execution_count": 2,
   "metadata": {},
   "outputs": [],
   "source": [
    "#Define a variable as the initial record of all the information needed.\n",
    "a=TrendStrat(adjusted=\"Y\",closeSign=1,stdevRoll=30,apikey=\"WRLZ7ECXJ3XT60MM\",tickerList=\"DJticker.csv\",interval=\"daily\",holdingPeriod=\"6m\",stratPeriod=\"52w\",winnerQuantile=0.2)"
   ]
  },
  {
   "cell_type": "code",
   "execution_count": null,
   "metadata": {},
   "outputs": [],
   "source": [
    "#Updated the data that will be used.\n",
    "TrendStrat.deletePrevData(a)\n",
    "TrendStrat.downloadData(a)"
   ]
  },
  {
   "cell_type": "code",
   "execution_count": 3,
   "metadata": {},
   "outputs": [],
   "source": [
    "#Read data to a variable\n",
    "data=TrendStrat.readData(a)"
   ]
  },
  {
   "cell_type": "code",
   "execution_count": 4,
   "metadata": {},
   "outputs": [
    {
     "name": "stdout",
     "output_type": "stream",
     "text": [
      " Generating Data: 51.61%-JPMC"
     ]
    },
    {
     "name": "stderr",
     "output_type": "stream",
     "text": [
      "C:\\Users\\Siyuan.Li\\RecurveAsset\\TrendStratV5.py:145: RuntimeWarning: divide by zero encountered in double_scalars\n",
      "  dailyReturn.append(rawData[\"adjusted_close\"][i]/rawData[\"adjusted_close\"][i-1]-1)\n"
     ]
    },
    {
     "name": "stdout",
     "output_type": "stream",
     "text": [
      " Generating Data: 100.00%-SPY"
     ]
    }
   ],
   "source": [
    "#Generate the data to the ones with period high point and high ratio\n",
    "finalData=TrendStrat.generateAllTickers(a,data)"
   ]
  },
  {
   "cell_type": "code",
   "execution_count": 5,
   "metadata": {},
   "outputs": [
    {
     "name": "stdout",
     "output_type": "stream",
     "text": [
      " Backtesting: 100.00%-DIS"
     ]
    }
   ],
   "source": [
    "#Generate the backtest result for each individual stock. This is not the final result for the whole portfolio.\n",
    "portfolio=TrendStrat.backtestAllTime(a,finalData)"
   ]
  },
  {
   "cell_type": "code",
   "execution_count": null,
   "metadata": {},
   "outputs": [],
   "source": [
    "#Generate the holding log and the portfolio return. Output is directed to csv files under the working directories.\n",
    "holdingLog=TrendStrat.generateHoldingLogIncreasingPosition(a,finalData,portfolio)"
   ]
  },
  {
   "cell_type": "code",
   "execution_count": null,
   "metadata": {},
   "outputs": [],
   "source": [
    "#Return the sharpe ratio of the porifolio return\n",
    "TrendStrat.sharpeRatio(holdingLog[\"return\"][\"dailyReturn\"])"
   ]
  }
 ],
 "metadata": {
  "kernelspec": {
   "display_name": "Python 3",
   "language": "python",
   "name": "python3"
  },
  "language_info": {
   "codemirror_mode": {
    "name": "ipython",
    "version": 3
   },
   "file_extension": ".py",
   "mimetype": "text/x-python",
   "name": "python",
   "nbconvert_exporter": "python",
   "pygments_lexer": "ipython3",
   "version": "3.6.3"
  }
 },
 "nbformat": 4,
 "nbformat_minor": 2
}
